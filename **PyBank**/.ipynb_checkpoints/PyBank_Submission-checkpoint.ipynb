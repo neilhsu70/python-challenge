{
 "cells": [
  {
   "cell_type": "code",
   "execution_count": null,
   "metadata": {},
   "outputs": [],
   "source": [
    "# * The average of the changes in \"Profit/Losses\" over the entire period\n",
    "# * The greatest increase in profits (date and amount) over the entire period\n",
    "# * The greatest decrease in losses (date and amount) over the entire period\n",
    "# * In addition, your final script should both print the analysis to the terminal and export a text file with the results."
   ]
  },
  {
   "cell_type": "code",
   "execution_count": null,
   "metadata": {},
   "outputs": [],
   "source": [
    "import os\n",
    "import csv"
   ]
  },
  {
   "cell_type": "code",
   "execution_count": null,
   "metadata": {},
   "outputs": [],
   "source": [
    "# Path to collect data from the Resources folder\n",
    "py_bank = os.path.join(\"Resources\",\"budget_data.csv\")\n",
    "\n",
    "month_count = 0\n",
    "net_total = 0\n",
    "average_change = 0\n",
    "greatest_increase = 0\n",
    "greatest_increase_date = \"\"\n",
    "greatest_decrease = 0\n",
    "greatest_decrease_date = \"\"\n",
    "change = []\n",
    "\n",
    "print(py_bank)"
   ]
  },
  {
   "cell_type": "code",
   "execution_count": null,
   "metadata": {
    "scrolled": true
   },
   "outputs": [],
   "source": [
    "with open(py_bank, 'r') as csvfile:\n",
    "    csvreader = csv.reader(csvfile, delimiter=',')\n",
    "    header = next(csvreader)\n",
    "    for row in csvreader:\n",
    "        month_count = month_count + 1\n",
    "        net_total += int(row[1])\n",
    "    print(f\"Header: {header}\")\n",
    "    print(month_count)\n",
    "    print(net_total)\n",
    "    print(row)"
   ]
  },
  {
   "cell_type": "code",
   "execution_count": null,
   "metadata": {},
   "outputs": [],
   "source": [
    "def output():\n",
    "    print(\"Financial Analysis\")\n",
    "    print(\"----------------------------\")\n",
    "    print(\"Total Months: \" + str(month_count))\n",
    "    print(\"Total: $\" + str(net_total))\n",
    "    print(\"Average Change: $\" + str(average_change))\n",
    "    print(\"Greatest Increase in Profits: \" +str(greatest_increase_date) + \" ($\" + str(greatest_increase) + \")\")\n",
    "    print(\"Greatest Decrease in Profits: \" +str(greatest_decrease_date) + \" ($\" + str(greatest_decrease) + \")\")\n",
    "output()"
   ]
  },
  {
   "cell_type": "code",
   "execution_count": null,
   "metadata": {},
   "outputs": [],
   "source": [
    " for x in range(0, len(Profit_Loss)-1):\n",
    "        if x+1 == \"\":\n",
    "            monthly_change = 0\n",
    "        else:\n",
    "            MonthA = int(Profit_Loss[x])\n",
    "            MonthB = int(Profit_Loss[x+1])\n",
    "            monthly_change = MonthB - MonthA\n",
    "        Changes.append(monthly_change)"
   ]
  },
  {
   "cell_type": "code",
   "execution_count": null,
   "metadata": {},
   "outputs": [],
   "source": []
  },
  {
   "cell_type": "code",
   "execution_count": null,
   "metadata": {},
   "outputs": [],
   "source": [
    "withopen('Financial Analyst.txt', 'w') as csvwrite:\n",
    "    csvwrite.write(\"Financial Analysis\\n\"\n",
    "                  \"----------------------------\\n\"\n",
    "                  \"Total Months: \" + str(month_count) + \"\\n\"\n",
    "                  \"Total: $\" + str(net_total) + \"\\n\"\n",
    "                  \"Average Change: $\" + str(average_change) + \"\\n\"\n",
    "                  \"Greatest Increase in Profits: \" +str(greatest_increase_date) + \" ($\" + str(greatest_increase) + \")\\n\"\n",
    "                  \"Greatest Decrease in Profits: \" +str(greatest_decrease_date) + \" ($\" + str(greatest_decrease) + \")\")\n"
   ]
  },
  {
   "cell_type": "code",
   "execution_count": null,
   "metadata": {},
   "outputs": [],
   "source": []
  },
  {
   "cell_type": "code",
   "execution_count": null,
   "metadata": {},
   "outputs": [],
   "source": []
  },
  {
   "cell_type": "code",
   "execution_count": null,
   "metadata": {},
   "outputs": [],
   "source": []
  },
  {
   "cell_type": "code",
   "execution_count": null,
   "metadata": {},
   "outputs": [],
   "source": []
  }
 ],
 "metadata": {
  "kernelspec": {
   "display_name": "Python 3",
   "language": "python",
   "name": "python3"
  },
  "language_info": {
   "codemirror_mode": {
    "name": "ipython",
    "version": 3
   },
   "file_extension": ".py",
   "mimetype": "text/x-python",
   "name": "python",
   "nbconvert_exporter": "python",
   "pygments_lexer": "ipython3",
   "version": "3.6.10"
  }
 },
 "nbformat": 4,
 "nbformat_minor": 2
}
